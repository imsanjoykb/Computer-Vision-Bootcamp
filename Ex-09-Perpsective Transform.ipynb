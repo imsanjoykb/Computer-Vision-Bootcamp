{
 "cells": [
  {
   "cell_type": "markdown",
   "metadata": {},
   "source": [
    "# Perpsective Transform"
   ]
  },
  {
   "cell_type": "markdown",
   "metadata": {},
   "source": [
    "#### Import Libraries"
   ]
  },
  {
   "cell_type": "code",
   "execution_count": 1,
   "metadata": {},
   "outputs": [],
   "source": [
    "import cv2\n",
    "import numpy as np\n",
    "import matplotlib.pyplot as plt"
   ]
  },
  {
   "cell_type": "code",
   "execution_count": 2,
   "metadata": {},
   "outputs": [],
   "source": [
    "# Read/load Imput image\n",
    "input_image = cv2.imread(r'D:\\Computer-Vision-Bootcamp\\images\\note.jpg')\n",
    "cv2.imshow('Orginal Image', input_image )\n",
    "cv2.waitKey(5000)\n",
    "cv2.destroyAllWindows()"
   ]
  },
  {
   "cell_type": "code",
   "execution_count": 3,
   "metadata": {},
   "outputs": [
    {
     "data": {
      "text/plain": [
       "-1"
      ]
     },
     "execution_count": 3,
     "metadata": {},
     "output_type": "execute_result"
    }
   ],
   "source": [
    "# Cordinates of the 4 corners of the original image\n",
    "orig_img_coor = np.float32([[71,72],[369,74],[19,485],[435,484]])\n",
    "\n",
    "for x in range(0,4):\n",
    "    cv2.circle(input_image, (orig_img_coor[x][0], orig_img_coor[x][1]), 5, (255,0,0), -1)\n",
    "    \n",
    "# Show the original image\n",
    "cv2.imshow('Coordinates Marked', input_image)\n",
    "cv2.waitKey(5000)"
   ]
  },
  {
   "cell_type": "code",
   "execution_count": 4,
   "metadata": {},
   "outputs": [],
   "source": [
    "height, width = 450,350\n",
    "\n",
    "# Cordinates of the 4 corners of the target output\n",
    "new_img_coor = np.float32([[0,0], [width,0], [height,0], [width,height]])\n",
    "\n",
    "# Use the two sets of four points to compute the perpective transformation matrix, P\n",
    "P = cv2.getPerspectiveTransform(orig_img_coor, new_img_coor)\n",
    "\n",
    "perspective = cv2.warpPerspective(input_image, P, (width,height))\n",
    "\n",
    "cv2.imshow('warpPerspective', perspective)\n",
    "cv2.waitKey(5000)\n",
    "cv2.destroyAllWindows()"
   ]
  },
  {
   "cell_type": "code",
   "execution_count": null,
   "metadata": {},
   "outputs": [],
   "source": []
  }
 ],
 "metadata": {
  "kernelspec": {
   "display_name": "Python 3",
   "language": "python",
   "name": "python3"
  },
  "language_info": {
   "codemirror_mode": {
    "name": "ipython",
    "version": 3
   },
   "file_extension": ".py",
   "mimetype": "text/x-python",
   "name": "python",
   "nbconvert_exporter": "python",
   "pygments_lexer": "ipython3",
   "version": "3.7.4"
  }
 },
 "nbformat": 4,
 "nbformat_minor": 2
}
