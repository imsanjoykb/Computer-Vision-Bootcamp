{
 "cells": [
  {
   "cell_type": "markdown",
   "metadata": {},
   "source": [
    "# Template Matching"
   ]
  },
  {
   "cell_type": "markdown",
   "metadata": {},
   "source": [
    "#### Import Libraries"
   ]
  },
  {
   "cell_type": "code",
   "execution_count": 1,
   "metadata": {},
   "outputs": [],
   "source": [
    "import cv2\n",
    "import numpy as np\n",
    "import matplotlib.pyplot as plt"
   ]
  },
  {
   "cell_type": "code",
   "execution_count": null,
   "metadata": {},
   "outputs": [
    {
     "name": "stdout",
     "output_type": "stream",
     "text": [
      "res== [[0.9999981]]\n",
      "bright pixels== (array([0], dtype=int64), array([0], dtype=int64))\n",
      "i=== (0, 0)\n",
      "number of iterations== 1\n"
     ]
    }
   ],
   "source": [
    "img = cv2.imread(\"D:\\Computer-Vision-Bootcamp\\images\\expert.png\")\n",
    "\n",
    "grey_img = cv2.cvtColor(img, cv2.COLOR_BGR2GRAY)\n",
    "template = cv2.imread(\"D:\\Computer-Vision-Bootcamp\\images\\expert.png\", 0)\n",
    "w, h = template.shape[::-1]\n",
    "\n",
    "#this function accept prameters (img,template,method)\n",
    "res = cv2.matchTemplate(grey_img, template, cv2.TM_CCORR_NORMED)\n",
    "print(\"res==\",res)\n",
    "threshold = 0.99\n",
    "loc = np.where(res >= threshold)  #find brightest point\n",
    "print(\"bright pixels==\",loc)\n",
    "count = 0\n",
    "for i in zip(*loc[::-1]):\n",
    "    print(\"i===\",i)\n",
    "    cv2.rectangle(img, i, (i[0] + w, i[1] + h), (0, 0, 255), 2)\n",
    "    count+=1\n",
    "print(\"number of iterations==\",count)\n",
    "img = cv2.resize(img,(800,600))\n",
    "res = cv2.resize(res,(800,600))\n",
    "cv2.imshow(\"img\", img)\n",
    "cv2.imshow(\"match temp==\",res)\n",
    "cv2.waitKey(0)\n",
    "cv2.destroyAllWindows()"
   ]
  },
  {
   "cell_type": "code",
   "execution_count": null,
   "metadata": {},
   "outputs": [],
   "source": []
  }
 ],
 "metadata": {
  "kernelspec": {
   "display_name": "Python 3 (ipykernel)",
   "language": "python",
   "name": "python3"
  },
  "language_info": {
   "codemirror_mode": {
    "name": "ipython",
    "version": 3
   },
   "file_extension": ".py",
   "mimetype": "text/x-python",
   "name": "python",
   "nbconvert_exporter": "python",
   "pygments_lexer": "ipython3",
   "version": "3.7.8"
  }
 },
 "nbformat": 4,
 "nbformat_minor": 2
}
