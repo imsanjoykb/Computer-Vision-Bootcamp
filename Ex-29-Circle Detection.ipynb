{
 "cells": [
  {
   "cell_type": "markdown",
   "metadata": {},
   "source": [
    "# Circle Detection"
   ]
  },
  {
   "cell_type": "markdown",
   "metadata": {},
   "source": [
    "#### Import Libraries"
   ]
  },
  {
   "cell_type": "code",
   "execution_count": 3,
   "metadata": {},
   "outputs": [],
   "source": [
    "import cv2\n",
    "import numpy as np\n",
    "import matplotlib.pyplot as plt"
   ]
  },
  {
   "cell_type": "code",
   "execution_count": 4,
   "metadata": {},
   "outputs": [],
   "source": [
    "img = cv2.imread('D:\\Computer-Vision-Bootcamp\\images\\expert.png')\n",
    "img2= img.copy()\n",
    "gray = cv2.cvtColor(img, cv2.COLOR_BGR2GRAY)\n",
    "gray = cv2.medianBlur(gray, 5)\n",
    "\n",
    "#parameters---(img,circle_method,dp,mindist,parm1,parm2[p1>p2],)\n",
    "circles = cv2.HoughCircles(gray, cv2.HOUGH_GRADIENT, 1, 20,\n",
    "                          param1=50, param2=30, minRadius=0,\n",
    "                          maxRadius=0)\n",
    "\n",
    "data = np.uint16(np.around(circles))\n",
    "for (x, y ,r) in data[0, :]:\n",
    "    cv2.circle(img2, (x, y), r, (50, 10, 50), 3) #outer circle\n",
    "    cv2.circle(img2, (x, y), 2, (0, 255, 100), -1) #center\n",
    "\n",
    "\n",
    "\n",
    "\n",
    "cv2.imshow('Original',img)\n",
    "cv2.imshow('Result',img2)\n",
    "cv2.waitKey(0)\n",
    "cv2.destroyAllWindows()"
   ]
  },
  {
   "cell_type": "code",
   "execution_count": null,
   "metadata": {},
   "outputs": [],
   "source": []
  }
 ],
 "metadata": {
  "kernelspec": {
   "display_name": "Python 3 (ipykernel)",
   "language": "python",
   "name": "python3"
  },
  "language_info": {
   "codemirror_mode": {
    "name": "ipython",
    "version": 3
   },
   "file_extension": ".py",
   "mimetype": "text/x-python",
   "name": "python",
   "nbconvert_exporter": "python",
   "pygments_lexer": "ipython3",
   "version": "3.7.8"
  }
 },
 "nbformat": 4,
 "nbformat_minor": 2
}
