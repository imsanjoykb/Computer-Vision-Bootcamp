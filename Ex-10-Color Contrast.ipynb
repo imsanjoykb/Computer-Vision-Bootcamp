{
 "cells": [
  {
   "cell_type": "markdown",
   "metadata": {},
   "source": [
    "# Color Contrast In openCV"
   ]
  },
  {
   "cell_type": "markdown",
   "metadata": {},
   "source": [
    "#### Import Libraries"
   ]
  },
  {
   "cell_type": "code",
   "execution_count": 1,
   "metadata": {},
   "outputs": [],
   "source": [
    "import cv2\n",
    "import numpy as np\n",
    "import matplotlib.pyplot as plt"
   ]
  },
  {
   "cell_type": "code",
   "execution_count": 7,
   "metadata": {},
   "outputs": [
    {
     "name": "stdout",
     "output_type": "stream",
     "text": [
      "[[[60 60 60]\n",
      "  [60 60 60]\n",
      "  [60 60 60]\n",
      "  ...\n",
      "  [60 60 60]\n",
      "  [60 60 60]\n",
      "  [60 60 60]]\n",
      "\n",
      " [[60 60 60]\n",
      "  [60 60 60]\n",
      "  [60 60 60]\n",
      "  ...\n",
      "  [60 60 60]\n",
      "  [60 60 60]\n",
      "  [60 60 60]]\n",
      "\n",
      " [[60 60 60]\n",
      "  [60 60 60]\n",
      "  [60 60 60]\n",
      "  ...\n",
      "  [60 60 60]\n",
      "  [60 60 60]\n",
      "  [60 60 60]]\n",
      "\n",
      " ...\n",
      "\n",
      " [[60 60 60]\n",
      "  [60 60 60]\n",
      "  [60 60 60]\n",
      "  ...\n",
      "  [60 60 60]\n",
      "  [60 60 60]\n",
      "  [60 60 60]]\n",
      "\n",
      " [[60 60 60]\n",
      "  [60 60 60]\n",
      "  [60 60 60]\n",
      "  ...\n",
      "  [60 60 60]\n",
      "  [60 60 60]\n",
      "  [60 60 60]]\n",
      "\n",
      " [[60 60 60]\n",
      "  [60 60 60]\n",
      "  [60 60 60]\n",
      "  ...\n",
      "  [60 60 60]\n",
      "  [60 60 60]\n",
      "  [60 60 60]]]\n"
     ]
    }
   ],
   "source": [
    "# Read/load Imput image\n",
    "input_image = cv2.imread(r'D:\\Computer-Vision-Bootcamp\\images\\wall1.jpg')\n",
    "cv2.imshow('Orginal Image', input_image )\n",
    "\n",
    "# Matrix of ones which is multipled by a scaler value of 60, matrix has dimesions same as out input image\n",
    "Intensity_Matrix = np.ones(input_image.shape, dtype = 'uint8')*60\n",
    "\n",
    "# Print Intensity Matrix\n",
    "print(Intensity_Matrix)\n",
    "\n",
    "# Add Intensity Matrix to input image in order to increase the brightness\n",
    "bbrightened_image = cv2.add(input_image,Intensity_Matrix )\n",
    "cv2.imshow('Bright', input_image)\n",
    "\n",
    "#Subtract Intensity Matrix from input image in order to decrease the brightness\n",
    "darkended_image = cv2.subtract(input_image, Intensity_Matrix)\n",
    "cv2.imshow('Dark', input_image)\n",
    "\n",
    "cv2.waitKey(0)\n",
    "cv2.destroyAllWindows()"
   ]
  },
  {
   "cell_type": "code",
   "execution_count": null,
   "metadata": {},
   "outputs": [],
   "source": []
  }
 ],
 "metadata": {
  "kernelspec": {
   "display_name": "Python 3",
   "language": "python",
   "name": "python3"
  },
  "language_info": {
   "codemirror_mode": {
    "name": "ipython",
    "version": 3
   },
   "file_extension": ".py",
   "mimetype": "text/x-python",
   "name": "python",
   "nbconvert_exporter": "python",
   "pygments_lexer": "ipython3",
   "version": "3.7.4"
  }
 },
 "nbformat": 4,
 "nbformat_minor": 2
}
