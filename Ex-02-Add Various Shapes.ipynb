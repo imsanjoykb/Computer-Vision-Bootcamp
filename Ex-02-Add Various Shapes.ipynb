{
 "cells": [
  {
   "cell_type": "markdown",
   "metadata": {},
   "source": [
    "# Add Various Shapes"
   ]
  },
  {
   "cell_type": "markdown",
   "metadata": {},
   "source": [
    "#### Import Libraries"
   ]
  },
  {
   "cell_type": "code",
   "execution_count": 11,
   "metadata": {},
   "outputs": [],
   "source": [
    "import cv2\n",
    "import numpy as np"
   ]
  },
  {
   "cell_type": "markdown",
   "metadata": {},
   "source": [
    "#### Drawing a Line on Black Image"
   ]
  },
  {
   "cell_type": "code",
   "execution_count": 19,
   "metadata": {},
   "outputs": [],
   "source": [
    "#Image\n",
    "black_image = np.zeros((512,512,3), np.uint8)\n",
    "\n",
    "#Draw Line\n",
    "cv2.line(black_image, (1,1), (250,250), (100,255,0),4)\n",
    "cv2.imshow(\"Flouresent Line\", black_image)\n",
    "\n",
    "cv2.waitKey(6000)\n",
    "cv2.destroyAllWindows()"
   ]
  },
  {
   "cell_type": "markdown",
   "metadata": {},
   "source": [
    "#### Draw a Circle on Black Image"
   ]
  },
  {
   "cell_type": "code",
   "execution_count": 23,
   "metadata": {},
   "outputs": [],
   "source": [
    "#Image\n",
    "black_image = np.zeros((512,512,3), np.uint8)\n",
    "\n",
    "#Draw Circle\n",
    "cv2.circle(black_image,(250,250), 175, (255,0,0),4)\n",
    "cv2.imshow(\"Circle\", black_image)\n",
    "\n",
    "cv2.waitKey(6000)\n",
    "cv2.destroyAllWindows()"
   ]
  },
  {
   "cell_type": "markdown",
   "metadata": {},
   "source": [
    "#### Drawing a Rectangle o Black Image"
   ]
  },
  {
   "cell_type": "code",
   "execution_count": 27,
   "metadata": {},
   "outputs": [],
   "source": [
    "#Image\n",
    "black_image = np.zeros((512,512,3), np.uint8)\n",
    "\n",
    "#Draw Rectangle\n",
    "cv2.rectangle(black_image, (50,100), (250,250), (110,100,90),-1)\n",
    "cv2.imshow(\"Rectangle\", black_image)\n",
    "\n",
    "cv2.waitKey(6000)\n",
    "cv2.destroyAllWindows()"
   ]
  },
  {
   "cell_type": "code",
   "execution_count": null,
   "metadata": {},
   "outputs": [],
   "source": []
  }
 ],
 "metadata": {
  "kernelspec": {
   "display_name": "Python 3",
   "language": "python",
   "name": "python3"
  },
  "language_info": {
   "codemirror_mode": {
    "name": "ipython",
    "version": 3
   },
   "file_extension": ".py",
   "mimetype": "text/x-python",
   "name": "python",
   "nbconvert_exporter": "python",
   "pygments_lexer": "ipython3",
   "version": "3.7.4"
  }
 },
 "nbformat": 4,
 "nbformat_minor": 2
}
