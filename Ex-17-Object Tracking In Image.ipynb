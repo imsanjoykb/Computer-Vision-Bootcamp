{
 "cells": [
  {
   "cell_type": "markdown",
   "metadata": {},
   "source": [
    "# Object Tracking In Image"
   ]
  },
  {
   "cell_type": "markdown",
   "metadata": {},
   "source": [
    "#### Import Libraries"
   ]
  },
  {
   "cell_type": "code",
   "execution_count": 1,
   "metadata": {},
   "outputs": [],
   "source": [
    "import cv2\n",
    "import numpy as np\n",
    "import matplotlib.pyplot as plt"
   ]
  },
  {
   "cell_type": "code",
   "execution_count": 2,
   "metadata": {
    "scrolled": true
   },
   "outputs": [
    {
     "ename": "ModuleNotFoundError",
     "evalue": "No module named 'stackimg'",
     "output_type": "error",
     "traceback": [
      "\u001b[1;31m---------------------------------------------------------------------------\u001b[0m",
      "\u001b[1;31mModuleNotFoundError\u001b[0m                       Traceback (most recent call last)",
      "\u001b[1;32m<ipython-input-2-b0bcc71d66cf>\u001b[0m in \u001b[0;36m<module>\u001b[1;34m\u001b[0m\n\u001b[0;32m     36\u001b[0m \u001b[1;32mimport\u001b[0m \u001b[0mcv2\u001b[0m\u001b[1;33m\u001b[0m\u001b[1;33m\u001b[0m\u001b[0m\n\u001b[0;32m     37\u001b[0m \u001b[1;32mimport\u001b[0m \u001b[0mnumpy\u001b[0m \u001b[1;32mas\u001b[0m \u001b[0mnp\u001b[0m\u001b[1;33m\u001b[0m\u001b[1;33m\u001b[0m\u001b[0m\n\u001b[1;32m---> 38\u001b[1;33m \u001b[1;32mfrom\u001b[0m \u001b[0mstackimg\u001b[0m \u001b[1;32mimport\u001b[0m \u001b[0mstackImages\u001b[0m\u001b[1;33m\u001b[0m\u001b[1;33m\u001b[0m\u001b[0m\n\u001b[0m\u001b[0;32m     39\u001b[0m \u001b[1;33m\u001b[0m\u001b[0m\n\u001b[0;32m     40\u001b[0m \u001b[1;33m\u001b[0m\u001b[0m\n",
      "\u001b[1;31mModuleNotFoundError\u001b[0m: No module named 'stackimg'"
     ]
    }
   ],
   "source": [
    "#HSV -  Hue saturation value\n",
    "#Hsv is use to separate image information on the basis of color luminous or intensity.\n",
    "#We use Hsv where we perform operation on the basis of color.\n",
    "#HSV related to hexaon color model\n",
    "# H - hue - use to select color from 360 portion\n",
    "#staturation is amount of color  which is selected in hue.(color shades)\n",
    "#V  -  value which is brightness of the color.\n",
    "\n",
    "# Static\n",
    "# import cv2\n",
    "# import numpy as np\n",
    "#\n",
    "# img = cv2.imread(\"resources/color_balls.jpg\")\n",
    "#\n",
    "# while True:\n",
    "#     imgHSV = cv2.cvtColor(img, cv2.COLOR_BGR2HSV)\n",
    "#\n",
    "#     l_v = np.array([110,50,50])\n",
    "#     u_v = np.array([130,235,225])\n",
    "#\n",
    "#     mask = cv2.inRange(imgHSV, l_v, u_v)\n",
    "#     res = cv2.bitwise_and(img,img, mask=mask)\n",
    "#\n",
    "#\n",
    "#     cv2.imshow(\"original\", img)\n",
    "#     cv2.imshow(\"mask\", mask)\n",
    "#     cv2.imshow(\"res\", res)\n",
    "#     k = cv2.waitKey(0)\n",
    "#     if k == ord('q'):\n",
    "#         break\n",
    "#\n",
    "# cv2.destroyAllWindows()\n",
    "\n",
    "# dynamic\n",
    "\n",
    "import cv2\n",
    "import numpy as np\n",
    "from stackimg import stackImages\n",
    "\n",
    "\n",
    "def empty(a):\n",
    "    pass\n",
    "\n",
    "\n",
    "# img = cv2.imread(\"resources/color_balls.jpg\")\n",
    "cap = cv2.VideoCapture(0)\n",
    "\n",
    "cv2.namedWindow(\"TrackBars\")\n",
    "cv2.resizeWindow(\"TrackBars\", 640, 240)\n",
    "\n",
    "cv2.createTrackbar(\"Hue Min\", \"TrackBars\", 0, 255, empty)\n",
    "cv2.createTrackbar(\"Hue Max\", \"TrackBars\", 255, 255, empty)\n",
    "cv2.createTrackbar(\"Sat Min\", \"TrackBars\", 0, 255, empty)\n",
    "cv2.createTrackbar(\"Sat Max\", \"TrackBars\", 255, 255, empty)\n",
    "cv2.createTrackbar(\"Val Min\", \"TrackBars\", 0, 255, empty)\n",
    "cv2.createTrackbar(\"Val Max\", \"TrackBars\", 255, 255, empty)\n",
    "\n",
    "while True:\n",
    "    _,img = cap.read()\n",
    "    img = cv2.resize(img,(600,400))\n",
    "\n",
    "    imgHSV = cv2.cvtColor(img, cv2.COLOR_BGR2HSV)\n",
    "\n",
    "    h_min = cv2.getTrackbarPos(\"Hue Min\", \"TrackBars\")\n",
    "    h_max = cv2.getTrackbarPos(\"Hue Max\", \"TrackBars\")\n",
    "    s_min = cv2.getTrackbarPos(\"Sat Min\", \"TrackBars\")\n",
    "    s_max = cv2.getTrackbarPos(\"Sat Max\", \"TrackBars\")\n",
    "    v_min = cv2.getTrackbarPos(\"Val Min\", \"TrackBars\")\n",
    "    v_max = cv2.getTrackbarPos(\"Val Max\", \"TrackBars\")\n",
    "\n",
    "    lower = np.array([h_min, s_min, v_min])\n",
    "    upper = np.array([h_max, s_max, v_max])\n",
    "\n",
    "    mask = cv2.inRange(imgHSV, lower, upper)\n",
    "    imgResult = cv2.bitwise_and(img, img, mask=mask)\n",
    "\n",
    "    cv2.putText(img, \"Original\", (20, 50), cv2.FONT_ITALIC,\n",
    "               2, (0, 125, 255), 2)\n",
    "\n",
    "    cv2.putText(imgHSV, \"imgHSV\", (20, 50), cv2.FONT_ITALIC,\n",
    "                2, (0, 125, 255), 2)\n",
    "\n",
    "    cv2.putText(mask, \"mask\", (20, 50), cv2.FONT_ITALIC,\n",
    "                2, (0, 125, 255), 2)\n",
    "\n",
    "    cv2.putText(imgResult, \"imgResult\", (20, 50), cv2.FONT_ITALIC,\n",
    "                2, (0, 125, 255), 2)\n",
    "\n",
    "    imgStack = stackImages(0.6, ([img, imgHSV], [mask, imgResult]))\n",
    "    cv2.imshow(\"Stacked Images\", imgStack)\n",
    "\n",
    "    if cv2.waitKey(1) & 0xFF == ord(\"q\"):\n",
    "        break"
   ]
  },
  {
   "cell_type": "code",
   "execution_count": null,
   "metadata": {},
   "outputs": [],
   "source": []
  }
 ],
 "metadata": {
  "kernelspec": {
   "display_name": "Python 3",
   "language": "python",
   "name": "python3"
  },
  "language_info": {
   "codemirror_mode": {
    "name": "ipython",
    "version": 3
   },
   "file_extension": ".py",
   "mimetype": "text/x-python",
   "name": "python",
   "nbconvert_exporter": "python",
   "pygments_lexer": "ipython3",
   "version": "3.7.4"
  }
 },
 "nbformat": 4,
 "nbformat_minor": 2
}
