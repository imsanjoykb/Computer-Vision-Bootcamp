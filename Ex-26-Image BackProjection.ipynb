{
 "cells": [
  {
   "cell_type": "markdown",
   "metadata": {},
   "source": [
    "# Image BackProjection"
   ]
  },
  {
   "cell_type": "markdown",
   "metadata": {},
   "source": [
    "#### Import Libraries"
   ]
  },
  {
   "cell_type": "code",
   "execution_count": 1,
   "metadata": {},
   "outputs": [],
   "source": [
    "import cv2\n",
    "import numpy as np\n",
    "import matplotlib.pyplot as plt"
   ]
  },
  {
   "cell_type": "code",
   "execution_count": 5,
   "metadata": {
    "scrolled": true
   },
   "outputs": [],
   "source": [
    "original_image = cv2.imread(\"D:\\Computer-Vision-Bootcamp\\images\\expert.png\")\n",
    "original_image = cv2.resize(original_image,(200,300))\n",
    "hsv_original = cv2.cvtColor(original_image, cv2.COLOR_BGR2HSV)\n",
    "\n",
    "roi = cv2.imread(\"D:\\Computer-Vision-Bootcamp\\images\\lambo.png\")\n",
    "hsv_roi = cv2.cvtColor(roi, cv2.COLOR_BGR2HSV)\n",
    "\n",
    "# Histogram ROI\n",
    "roi_hist = cv2.calcHist([hsv_roi], [0, 1], None, [180, 256], [0, 180, 0, 256])\n",
    "mask = cv2.calcBackProject([hsv_original], [0, 1], roi_hist, [0, 180, 0, 256], 1)\n",
    "\n",
    "\n",
    "# Filtering remove noise\n",
    "kernel = cv2.getStructuringElement(cv2.MORPH_ELLIPSE, (5, 5))  # predefine\n",
    "mask = cv2.filter2D(mask, -1, kernel)\n",
    "_, mask = cv2.threshold(mask, 200, 255, cv2.THRESH_BINARY)\n",
    "\n",
    "mask = cv2.merge((mask, mask, mask))\n",
    "result = cv2.bitwise_or(original_image, mask)\n",
    "\n",
    "\n",
    "\n",
    "cv2.imshow(\"Original image\", original_image)\n",
    "cv2.imshow(\"Mask\", mask)\n",
    "cv2.imshow(\"Result\", result)\n",
    "cv2.imshow(\"Roi\", hsv_original)\n",
    "cv2.waitKey(0)\n",
    "cv2.destroyAllWindows()"
   ]
  },
  {
   "cell_type": "code",
   "execution_count": null,
   "metadata": {},
   "outputs": [],
   "source": []
  }
 ],
 "metadata": {
  "kernelspec": {
   "display_name": "Python 3 (ipykernel)",
   "language": "python",
   "name": "python3"
  },
  "language_info": {
   "codemirror_mode": {
    "name": "ipython",
    "version": 3
   },
   "file_extension": ".py",
   "mimetype": "text/x-python",
   "name": "python",
   "nbconvert_exporter": "python",
   "pygments_lexer": "ipython3",
   "version": "3.7.8"
  }
 },
 "nbformat": 4,
 "nbformat_minor": 2
}
