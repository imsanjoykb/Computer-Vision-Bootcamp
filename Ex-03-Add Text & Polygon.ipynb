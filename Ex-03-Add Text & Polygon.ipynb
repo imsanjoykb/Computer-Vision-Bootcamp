{
 "cells": [
  {
   "cell_type": "markdown",
   "metadata": {},
   "source": [
    "# Add Text Polygon on Image"
   ]
  },
  {
   "cell_type": "markdown",
   "metadata": {},
   "source": [
    "#### Import Libraries"
   ]
  },
  {
   "cell_type": "code",
   "execution_count": 1,
   "metadata": {},
   "outputs": [],
   "source": [
    "import cv2\n",
    "import numpy as np"
   ]
  },
  {
   "cell_type": "markdown",
   "metadata": {},
   "source": [
    "#### Add text on Image"
   ]
  },
  {
   "cell_type": "code",
   "execution_count": 2,
   "metadata": {},
   "outputs": [],
   "source": [
    "#Image\n",
    "black_image = np.zeros((512,512,3), np.uint8)\n",
    "\n",
    "#Draw Line\n",
    "cv2.putText(black_image, 'This is Awesome!!', (10,100), cv2.FONT_HERSHEY_SCRIPT_COMPLEX, 2, (100,17),4)\n",
    "cv2.imshow(\"Add Text\", black_image)\n",
    "\n",
    "cv2.waitKey(6000)\n",
    "cv2.destroyAllWindows()"
   ]
  },
  {
   "cell_type": "markdown",
   "metadata": {},
   "source": [
    "#### Drawing a Polygon on a Black Image"
   ]
  },
  {
   "cell_type": "code",
   "execution_count": 3,
   "metadata": {},
   "outputs": [],
   "source": [
    "#Image\n",
    "black_image = np.zeros((512,512,3), np.uint8)\n",
    "\n",
    "#Define four points\n",
    "pts = np.array([[25,65], [415,65], [80,150], [400,500]], np.int32)\n",
    "\n",
    "#Reshape points in form that is required by polygon\n",
    "pts = pts.reshape((-1,1,2))\n",
    "\n",
    "#Create Polygon\n",
    "cv2.polylines(black_image, [pts], True, (255,255,255), 3)\n",
    "cv2.imshow(\"Polygon\", black_image)\n",
    "cv2.waitKey(6000)\n",
    "cv2.destroyAllWindows()"
   ]
  },
  {
   "cell_type": "code",
   "execution_count": null,
   "metadata": {},
   "outputs": [],
   "source": []
  }
 ],
 "metadata": {
  "kernelspec": {
   "display_name": "Python 3",
   "language": "python",
   "name": "python3"
  },
  "language_info": {
   "codemirror_mode": {
    "name": "ipython",
    "version": 3
   },
   "file_extension": ".py",
   "mimetype": "text/x-python",
   "name": "python",
   "nbconvert_exporter": "python",
   "pygments_lexer": "ipython3",
   "version": "3.7.4"
  }
 },
 "nbformat": 4,
 "nbformat_minor": 2
}
