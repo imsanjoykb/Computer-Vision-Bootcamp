{
 "cells": [
  {
   "cell_type": "markdown",
   "metadata": {},
   "source": [
    "# Scaling and Resizing Image"
   ]
  },
  {
   "cell_type": "markdown",
   "metadata": {},
   "source": [
    "#### Import Libraries"
   ]
  },
  {
   "cell_type": "code",
   "execution_count": 6,
   "metadata": {},
   "outputs": [],
   "source": [
    "import cv2\n",
    "import numpy as np"
   ]
  },
  {
   "cell_type": "markdown",
   "metadata": {},
   "source": [
    "#### cv2.resize(image, dsize(output image size), x scale, y scale, interpolation)"
   ]
  },
  {
   "cell_type": "code",
   "execution_count": 7,
   "metadata": {},
   "outputs": [],
   "source": [
    "#n Read/load Imput image\n",
    "input_image = cv2.imread(r'D:\\Computer Vision Bootcamp\\images\\expert.png')\n",
    "cv2.imshow('Orginal Image', input_image )\n",
    "cv2.waitKey(5000)\n",
    "cv2.destroyAllWindows()"
   ]
  },
  {
   "cell_type": "code",
   "execution_count": 8,
   "metadata": {},
   "outputs": [],
   "source": [
    "# Making Image 1/2 of its's orginal size\n",
    "scaled_image1 = cv2.resize(input_image, None, fx = 0.5, fy = 0.5,)\n",
    "cv2.imshow('Sacled Image Down', scaled_image1)\n",
    "cv2.waitKey(5000)\n",
    "cv2.destroyAllWindows()"
   ]
  },
  {
   "cell_type": "code",
   "execution_count": 10,
   "metadata": {},
   "outputs": [],
   "source": [
    "# Making Image 1.5 times the size of orginal image\n",
    "scaled_image2 = cv2.resize(input_image, None, fx = 1.5, fy = 1.5, interpolation = cv2.INTER_AREA)\n",
    "cv2.imshow('Scaling-Interpolation', scaled_image2)\n",
    "cv2.waitKey(5000)\n",
    "cv2.destroyAllWindows()"
   ]
  },
  {
   "cell_type": "code",
   "execution_count": 11,
   "metadata": {},
   "outputs": [],
   "source": [
    "# Showing the resizing by setting exact dimensions\n",
    "scaled_image3 = cv2.resize(input_image,(700,250), interpolation = cv2.INTER_AREA)\n",
    "cv2.imshow('Scaling-Skewed Image', scaled_image3)\n",
    "cv2.waitKey(5000)\n",
    "cv2.destroyAllWindows()"
   ]
  },
  {
   "cell_type": "markdown",
   "metadata": {},
   "source": [
    "#### Image Pyramid"
   ]
  },
  {
   "cell_type": "code",
   "execution_count": 12,
   "metadata": {},
   "outputs": [],
   "source": [
    "#n Read/load Imput image\n",
    "input_image = cv2.imread(r'D:\\Computer Vision Bootcamp\\images\\expert.png')\n",
    "cv2.imshow('Orginal Image', input_image )\n",
    "cv2.waitKey(5000)\n",
    "cv2.destroyAllWindows()\n",
    "\n",
    "smaller_image = cv2.pyrDown(input_image)\n",
    "larger_image = cv2.pyrUp(smaller_image)\n",
    "\n",
    "cv2.imshow('Smaller', smaller_image)\n",
    "cv2.imshow('Larger', larger_image)\n",
    "cv2.waitKey(5000)\n",
    "cv2.destroyAllWindows()"
   ]
  },
  {
   "cell_type": "code",
   "execution_count": null,
   "metadata": {},
   "outputs": [],
   "source": []
  }
 ],
 "metadata": {
  "kernelspec": {
   "display_name": "Python 3",
   "language": "python",
   "name": "python3"
  },
  "language_info": {
   "codemirror_mode": {
    "name": "ipython",
    "version": 3
   },
   "file_extension": ".py",
   "mimetype": "text/x-python",
   "name": "python",
   "nbconvert_exporter": "python",
   "pygments_lexer": "ipython3",
   "version": "3.7.4"
  }
 },
 "nbformat": 4,
 "nbformat_minor": 2
}
