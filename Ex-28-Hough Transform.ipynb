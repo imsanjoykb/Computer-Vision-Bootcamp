{
 "cells": [
  {
   "cell_type": "markdown",
   "metadata": {},
   "source": [
    "# Hough Transform"
   ]
  },
  {
   "cell_type": "markdown",
   "metadata": {},
   "source": [
    "#### Import Libraries"
   ]
  },
  {
   "cell_type": "code",
   "execution_count": 1,
   "metadata": {},
   "outputs": [],
   "source": [
    "import cv2\n",
    "import numpy as np\n",
    "import matplotlib.pyplot as plt"
   ]
  },
  {
   "cell_type": "code",
   "execution_count": 2,
   "metadata": {},
   "outputs": [],
   "source": [
    "img = cv2.imread('D:\\Computer-Vision-Bootcamp\\images\\expert.png')\n",
    "img = cv2.resize(img,(400,400))\n",
    "\n",
    "#conert gary\n",
    "gray = cv2.cvtColor(img,cv2.COLOR_BGR2GRAY)\n",
    "\n",
    "#edge detect\n",
    "edges = cv2.Canny(gray,10,200,apertureSize = 3)\n",
    "\n",
    "#apply hough method\n",
    "\n",
    "#1st method (cv2.HoughLines()) Not Use Verymuch\n",
    "\n",
    "#function accept parameter(img,rho,theta)\n",
    "#rho value -- distance resolution of pixels\n",
    "#thetha - angle resolution\n",
    "#line threshold\n",
    "lines = cv2.HoughLines(edges,1,np.pi/180,200)\n",
    "\n",
    "\n",
    "for rho,theta in lines[0]:\n",
    "    a = np.cos(theta)\n",
    "    b = np.sin(theta)\n",
    "    x0 = a*rho\n",
    "    y0 = b*rho\n",
    "    x1 = int(x0 + 1000*(-b))\n",
    "    y1 = int(y0 + 1000*(a))\n",
    "    x2 = int(x0 - 1000*(-b))\n",
    "    y2 = int(y0 - 1000*(a))\n",
    "    cv2.line(img,(x1,y1),(x2,y2),(255,0,255),2)\n",
    "\n",
    "#2nd Method (cv2.HoughLinesP()) Use heavily\n",
    "linesp = cv2.HoughLinesP(edges,1,np.pi/180,100,minLineLength=8,\n",
    "                        maxLineGap=100)\n",
    "for line in linesp:\n",
    "    x1,y1,x2,y2 = line[0]\n",
    "    cv2.line(img,(x1,y1),(x2,y2),(100,200,125),2)\n",
    "\n",
    "\n",
    "cv2.imshow(\"lines\",img)\n",
    "cv2.imshow(\"edge\",edges)\n",
    "cv2.waitKey(0)\n",
    "cv2.destroyAllWindows()"
   ]
  },
  {
   "cell_type": "code",
   "execution_count": null,
   "metadata": {},
   "outputs": [],
   "source": []
  }
 ],
 "metadata": {
  "kernelspec": {
   "display_name": "Python 3 (ipykernel)",
   "language": "python",
   "name": "python3"
  },
  "language_info": {
   "codemirror_mode": {
    "name": "ipython",
    "version": 3
   },
   "file_extension": ".py",
   "mimetype": "text/x-python",
   "name": "python",
   "nbconvert_exporter": "python",
   "pygments_lexer": "ipython3",
   "version": "3.7.8"
  }
 },
 "nbformat": 4,
 "nbformat_minor": 2
}
