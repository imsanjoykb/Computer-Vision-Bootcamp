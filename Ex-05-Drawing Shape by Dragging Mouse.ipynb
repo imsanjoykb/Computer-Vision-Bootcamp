{
 "cells": [
  {
   "cell_type": "markdown",
   "metadata": {},
   "source": [
    "# Drawing Shape by Dragging with Mouse Button"
   ]
  },
  {
   "cell_type": "markdown",
   "metadata": {},
   "source": [
    "#### Import Libraries"
   ]
  },
  {
   "cell_type": "code",
   "execution_count": 4,
   "metadata": {},
   "outputs": [],
   "source": [
    "import cv2\n",
    "import numpy as np"
   ]
  },
  {
   "cell_type": "markdown",
   "metadata": {},
   "source": [
    "#### Drawing Blue Circles on Black Screen by Left Button click on Mouse"
   ]
  },
  {
   "cell_type": "code",
   "execution_count": 10,
   "metadata": {},
   "outputs": [],
   "source": [
    "#Define Mouse pressed and mouse position parameters\n",
    "draw = False #will be changed to when mouse is pressed\n",
    "ix,iy = -1,-1 # mouse position\n",
    "\n",
    "# Create a rectangle shape function to draw a blue rectangle when mouse is dragged\n",
    "def rectangle_shape(event, x, y, flagval, par):\n",
    "    global draw, ix, iy\n",
    "    \n",
    "    if event == cv2.EVENT_LBUTTONDOWN:\n",
    "        #Value of variable draw will be set to True, when you press down left mouse button\n",
    "        draw = True\n",
    "        #mouse location is captured here\n",
    "        ix,iy = x,y\n",
    "        \n",
    "    elif event == cv2.EVENT_MOUSEMOVE:\n",
    "        #Dragging the mouse at this juncture\n",
    "        if draw == True:\n",
    "        #If draw is true then it means you click the left mouse button\n",
    "        # Here we will draw a rectangle from the previous position to x,y where the mouse is currenctly locate\n",
    "            cv2.rectangle(image_window, (ix,iy),(x,y),(255,0,0),-1)\n",
    "        \n",
    "    elif event == cv2.EVENT_LBUTTONUP:\n",
    "        # As soon as you release the mouse button , variable draw will be set false\n",
    "        draw = False\n",
    "        # Here we are completing to draw the rectangle an image window\n",
    "        cv2.rectangle(image_window, (ix,iy),(x,y),(255,0,0),-1)\n",
    "        \n",
    "# Creatung a block image window\n",
    "image_window = np.zeros((1024,1024,3), np.uint8)\n",
    "\n",
    "# Naming the window for references\n",
    "cv2.namedWindow(winname = 'Image_Window')\n",
    "\n",
    "# Connecting the mouse button to the callback function\n",
    "cv2.setMouseCallback('Image_Window', rectangle_shape)\n",
    "\n",
    "while True: # keep the block image window open until ESC key press\n",
    "    \n",
    "    #Show the image window\n",
    "    cv2.imshow('Image_Window', image_window)\n",
    "    \n",
    "    # Coming out of window by pressing ESC key\n",
    "    if cv2.waitKey(1) & 0xFF == 27:\n",
    "        break\n",
    "        \n",
    "cv2.destroyAllWindows()"
   ]
  },
  {
   "cell_type": "code",
   "execution_count": null,
   "metadata": {},
   "outputs": [],
   "source": []
  }
 ],
 "metadata": {
  "kernelspec": {
   "display_name": "Python 3",
   "language": "python",
   "name": "python3"
  },
  "language_info": {
   "codemirror_mode": {
    "name": "ipython",
    "version": 3
   },
   "file_extension": ".py",
   "mimetype": "text/x-python",
   "name": "python",
   "nbconvert_exporter": "python",
   "pygments_lexer": "ipython3",
   "version": "3.7.4"
  }
 },
 "nbformat": 4,
 "nbformat_minor": 2
}
