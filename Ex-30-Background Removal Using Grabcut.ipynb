{
 "cells": [
  {
   "cell_type": "markdown",
   "metadata": {},
   "source": [
    "# Background Removal Using Grabcut"
   ]
  },
  {
   "cell_type": "markdown",
   "metadata": {},
   "source": [
    "#### Import Libraries"
   ]
  },
  {
   "cell_type": "code",
   "execution_count": 1,
   "metadata": {},
   "outputs": [],
   "source": [
    "import cv2\n",
    "import numpy as np\n",
    "import matplotlib.pyplot as plt"
   ]
  },
  {
   "cell_type": "code",
   "execution_count": 2,
   "metadata": {},
   "outputs": [],
   "source": [
    "img = cv2.imread('D:\\Computer-Vision-Bootcamp\\images\\expert.png')\n",
    "img = cv2.resize(img,(800,800))\n",
    "mask =\tnp.zeros(img.shape[:2],np.uint8)\n",
    "\n",
    "\n",
    "bgdModel =  np.zeros((1,65),np.float64)*255\n",
    "fgdModel =  np.zeros((1,65),np.float64)*255\n",
    "\n",
    "#rect(x1,y1,x2,y2)\n",
    "rect =\t(134,150,660,730) #foreground\n",
    "#parameter(img,mask,rect,bgmodel,fgmodel,iter,method)\n",
    "cv2.grabCut(img,mask,rect,bgdModel,fgdModel,5,\n",
    "            cv2.GC_INIT_WITH_RECT)\n",
    "\n",
    "mask2  =  np.where((mask==2)|(mask==0),0,1).astype('uint8')\n",
    "img  =\timg*mask2[:,:,np.newaxis]\n",
    "\n",
    "cv2.imshow(\"Original\",img)\n",
    "cv2.waitKey(0)\n",
    "cv2.destroyAllWindows()"
   ]
  },
  {
   "cell_type": "code",
   "execution_count": null,
   "metadata": {},
   "outputs": [],
   "source": []
  }
 ],
 "metadata": {
  "kernelspec": {
   "display_name": "Python 3 (ipykernel)",
   "language": "python",
   "name": "python3"
  },
  "language_info": {
   "codemirror_mode": {
    "name": "ipython",
    "version": 3
   },
   "file_extension": ".py",
   "mimetype": "text/x-python",
   "name": "python",
   "nbconvert_exporter": "python",
   "pygments_lexer": "ipython3",
   "version": "3.7.8"
  }
 },
 "nbformat": 4,
 "nbformat_minor": 2
}
