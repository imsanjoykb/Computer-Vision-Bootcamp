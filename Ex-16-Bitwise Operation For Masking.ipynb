{
 "cells": [
  {
   "cell_type": "markdown",
   "metadata": {},
   "source": [
    "# Bitwise Operation"
   ]
  },
  {
   "cell_type": "markdown",
   "metadata": {},
   "source": [
    "#### Import Libraries"
   ]
  },
  {
   "cell_type": "code",
   "execution_count": 3,
   "metadata": {},
   "outputs": [],
   "source": [
    "import cv2\n",
    "import numpy as np\n",
    "import matplotlib.pyplot as plt"
   ]
  },
  {
   "cell_type": "code",
   "execution_count": 4,
   "metadata": {
    "scrolled": true
   },
   "outputs": [],
   "source": [
    "img1 = np.zeros((250, 500, 3), np.uint8)\n",
    "img1 = cv2.rectangle(img1,(150, 100), (200, 250), (255, 255, 255), -1)\n",
    "\n",
    "img2 = np.zeros((250, 500, 3), np.uint8)\n",
    "img2 = cv2.rectangle(img2,(10, 10), (170, 190), (255, 255, 255), -1)\n",
    "\n",
    "\n",
    "cv2.imshow(\"img1\", img1)\n",
    "cv2.imshow(\"img2\", img2)\n",
    "\n",
    "bitAnd = cv2.bitwise_and(img2, img1)\n",
    "bitOr = cv2.bitwise_or(img2, img1)\n",
    "bitNot1 = cv2.bitwise_not(img1)\n",
    "bitNot2 = cv2.bitwise_not(img2)\n",
    "bitXor = cv2.bitwise_xor(img1, img2)\n",
    "\n",
    "\n",
    "cv2.imshow('bitAnd', bitAnd)\n",
    "cv2.imshow('bitOr', bitOr)\n",
    "cv2.imshow('bitNot1', bitNot1)\n",
    "cv2.imshow('bitNot2', bitNot2)\n",
    "cv2.imshow('bitXor', bitXor)\n",
    "\n",
    "cv2.waitKey(0)\n",
    "cv2.destroyAllWindows()"
   ]
  },
  {
   "cell_type": "code",
   "execution_count": null,
   "metadata": {},
   "outputs": [],
   "source": []
  }
 ],
 "metadata": {
  "kernelspec": {
   "display_name": "Python 3",
   "language": "python",
   "name": "python3"
  },
  "language_info": {
   "codemirror_mode": {
    "name": "ipython",
    "version": 3
   },
   "file_extension": ".py",
   "mimetype": "text/x-python",
   "name": "python",
   "nbconvert_exporter": "python",
   "pygments_lexer": "ipython3",
   "version": "3.7.4"
  }
 },
 "nbformat": 4,
 "nbformat_minor": 2
}
