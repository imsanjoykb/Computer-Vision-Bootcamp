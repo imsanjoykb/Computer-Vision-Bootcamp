{
 "cells": [
  {
   "cell_type": "markdown",
   "metadata": {},
   "source": [
    "# Image Translation"
   ]
  },
  {
   "cell_type": "markdown",
   "metadata": {},
   "source": [
    "#### Import Libraries"
   ]
  },
  {
   "cell_type": "code",
   "execution_count": 25,
   "metadata": {},
   "outputs": [],
   "source": [
    "import cv2\n",
    "import numpy as np"
   ]
  },
  {
   "cell_type": "code",
   "execution_count": 26,
   "metadata": {},
   "outputs": [],
   "source": [
    "# Read/load Imput image\n",
    "input_image = cv2.imread(r'D:\\Computer Vision Bootcamp\\images\\expert.png')\n",
    "cv2.imshow('Orginal Image', input_image )\n",
    "cv2.waitKey(5000)\n",
    "cv2.destroyAllWindows()"
   ]
  },
  {
   "cell_type": "code",
   "execution_count": 27,
   "metadata": {},
   "outputs": [
    {
     "name": "stdout",
     "output_type": "stream",
     "text": [
      "512 512\n",
      "===========\n",
      "[[  1.   0. 128.]\n",
      " [  0.   1. 128.]]\n"
     ]
    }
   ],
   "source": [
    "# Extract height and width from image\n",
    "height, width = input_image.shape[:2]\n",
    "print(height,width)\n",
    "print(\"===========\")\n",
    "\n",
    "# Translate the height and width of the image to 1/4\n",
    "height_fourth, width_fourth = height/4, width/4\n",
    "\n",
    "# Translation matrix T\n",
    "T = np.float32([[1,0,height_fourth],[0,1,width_fourth]])\n",
    "\n",
    "# Printing the value of translation matrix\n",
    "print(T)\n",
    "\n",
    "# Using warpAffine to transform the image using the translation matrix, T\n",
    "translation = cv2.warpAffine(input_image, T, (width,height))\n",
    "\n",
    "# Showing the image\n",
    "cv2.imshow('Translation', translation)\n",
    "cv2.waitKey()\n",
    "cv2.destroyAllWindows()"
   ]
  }
 ],
 "metadata": {
  "kernelspec": {
   "display_name": "Python 3",
   "language": "python",
   "name": "python3"
  },
  "language_info": {
   "codemirror_mode": {
    "name": "ipython",
    "version": 3
   },
   "file_extension": ".py",
   "mimetype": "text/x-python",
   "name": "python",
   "nbconvert_exporter": "python",
   "pygments_lexer": "ipython3",
   "version": "3.7.4"
  }
 },
 "nbformat": 4,
 "nbformat_minor": 2
}
