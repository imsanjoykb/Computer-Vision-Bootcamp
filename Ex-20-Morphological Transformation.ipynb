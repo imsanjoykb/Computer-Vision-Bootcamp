{
 "cells": [
  {
   "cell_type": "markdown",
   "metadata": {},
   "source": [
    "# Morphological Transformation"
   ]
  },
  {
   "cell_type": "markdown",
   "metadata": {},
   "source": [
    "#### Import Libraries"
   ]
  },
  {
   "cell_type": "code",
   "execution_count": 1,
   "metadata": {},
   "outputs": [],
   "source": [
    "import cv2\n",
    "import numpy as np\n",
    "import matplotlib.pyplot as plt"
   ]
  },
  {
   "cell_type": "code",
   "execution_count": 5,
   "metadata": {
    "scrolled": true
   },
   "outputs": [],
   "source": [
    "img = cv2.imread('D:\\Computer-Vision-Bootcamp\\images\\expert.png',0)\n",
    "\n",
    "#Erosion---\n",
    "#it erodes away the boundaries of foreground object\n",
    "#kernal slides through all the image and all the pixel\n",
    "#from the original image conside 1 only if kernal's pixel is 1\n",
    "\n",
    "_,mask= cv2.threshold(img,230,255,cv2.THRESH_BINARY_INV)\n",
    "kernel = np.ones((5,5),np.uint8)# 5x5 kernel with full of ones.\n",
    "erosion = cv2.erode(mask,kernel) #optional parameters   iterations = 2\n",
    "\n",
    "\n",
    "#Dilation --\n",
    "#It is just opposite of erosion.\n",
    "#Here, a pixel element is ‘1’ if atleast one pixel under the kernel is ‘1’\n",
    "#So it inc. the white region in the image or size of foreground object in.\n",
    "#Normally, in cases like noise removal, erosion is followed by dilation.\n",
    "#Because, erosion removes white noises, but it also shrinks our object.\n",
    "\n",
    "kernel = np.ones((1,1),np.uint8)# 5x5 kernel with full of ones.\n",
    "dilation  = cv2.dilate(mask,kernel) #iterations = 2 (optional parameters) iterations = 2\n",
    "\n",
    "\n",
    "\n",
    "\n",
    "cv2.imshow(\"mask==\",mask)\n",
    "cv2.imshow(\"img\",img)\n",
    "# cv2.imshow(\"ker=\",kernel)\n",
    "cv2.imshow(\"erosion==\",erosion)\n",
    "cv2.imshow(\"dilate==\",dilation)\n",
    "\n",
    "\n",
    "\n",
    "cv2.waitKey(0)\n",
    "cv2.destroyAllWindows()\n"
   ]
  },
  {
   "cell_type": "code",
   "execution_count": null,
   "metadata": {},
   "outputs": [],
   "source": []
  }
 ],
 "metadata": {
  "kernelspec": {
   "display_name": "Python 3",
   "language": "python",
   "name": "python3"
  },
  "language_info": {
   "codemirror_mode": {
    "name": "ipython",
    "version": 3
   },
   "file_extension": ".py",
   "mimetype": "text/x-python",
   "name": "python",
   "nbconvert_exporter": "python",
   "pygments_lexer": "ipython3",
   "version": "3.7.4"
  }
 },
 "nbformat": 4,
 "nbformat_minor": 2
}
