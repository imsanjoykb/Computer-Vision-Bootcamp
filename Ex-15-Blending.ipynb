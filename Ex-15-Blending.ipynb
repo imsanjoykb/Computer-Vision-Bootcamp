{
 "cells": [
  {
   "cell_type": "markdown",
   "metadata": {},
   "source": [
    "# Blending"
   ]
  },
  {
   "cell_type": "markdown",
   "metadata": {},
   "source": [
    "#### Import Libraries"
   ]
  },
  {
   "cell_type": "code",
   "execution_count": 1,
   "metadata": {},
   "outputs": [],
   "source": [
    "import cv2\n",
    "import numpy as np\n",
    "import matplotlib.pyplot as plt"
   ]
  },
  {
   "cell_type": "code",
   "execution_count": 2,
   "metadata": {
    "scrolled": true
   },
   "outputs": [],
   "source": [
    "img1 = cv2.imread(\"D:\\Computer-Vision-Bootcamp\\images\\lambo.png\")\n",
    "img1 = cv2.resize(img1,(500,700))\n",
    "img2 = cv2.imread(\"D:\\Computer-Vision-Bootcamp\\images\\lambo.png\")\n",
    "img2 = cv2.resize(img2,(500,700))\n",
    "\n",
    "# cv2.imshow(\"thor==\",img1)\n",
    "# cv2.imshow(\"bro_thor==\",img2)\n",
    "\n",
    "#simple blending not suitable\n",
    "result = img2 + img1 #numpy addition in this we get module between value\n",
    "\n",
    "#recommended to use cv2.add\n",
    "result1 = cv2.add(img1,img2) #its your saturated oprn which means value to value\n",
    "\n",
    "#function cv2.addWeighted(img1,wt1,img2,wt2,gama_val)\n",
    "#weight  = w1+w2 = 1(max)\n",
    "result2 = cv2.addWeighted(img1,0.5,img2,0.5,0)\n",
    "\n",
    "cv2.imshow(\"result==\",result)\n",
    "cv2.imshow(\"result1==\",result1)\n",
    "cv2.imshow(\"result2==\",result2)\n",
    "cv2.waitKey(0)\n",
    "cv2.destroyAllWindows()"
   ]
  },
  {
   "cell_type": "code",
   "execution_count": null,
   "metadata": {},
   "outputs": [],
   "source": []
  }
 ],
 "metadata": {
  "kernelspec": {
   "display_name": "Python 3",
   "language": "python",
   "name": "python3"
  },
  "language_info": {
   "codemirror_mode": {
    "name": "ipython",
    "version": 3
   },
   "file_extension": ".py",
   "mimetype": "text/x-python",
   "name": "python",
   "nbconvert_exporter": "python",
   "pygments_lexer": "ipython3",
   "version": "3.7.4"
  }
 },
 "nbformat": 4,
 "nbformat_minor": 2
}
