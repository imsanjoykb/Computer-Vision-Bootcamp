{
 "cells": [
  {
   "cell_type": "markdown",
   "metadata": {},
   "source": [
    "# Rotation and Flip Using openCV"
   ]
  },
  {
   "cell_type": "markdown",
   "metadata": {},
   "source": [
    "#### Import Libraries"
   ]
  },
  {
   "cell_type": "code",
   "execution_count": 6,
   "metadata": {},
   "outputs": [],
   "source": [
    "import cv2\n",
    "import numpy as np"
   ]
  },
  {
   "cell_type": "markdown",
   "metadata": {},
   "source": [
    "#### cv2.getRotationMatrix2D(rotation_center_x,retation_center_y,angle of retation, scale)"
   ]
  },
  {
   "cell_type": "code",
   "execution_count": 13,
   "metadata": {},
   "outputs": [],
   "source": [
    "# Read/load Imput image\n",
    "input_image = cv2.imread(r'D:\\Computer Vision Bootcamp\\images\\expert.png')\n",
    "cv2.imshow('Orginal Image', input_image )\n",
    "cv2.waitKey(5000)\n",
    "cv2.destroyAllWindows()"
   ]
  },
  {
   "cell_type": "code",
   "execution_count": 17,
   "metadata": {},
   "outputs": [],
   "source": [
    "# Extract height and width from image\n",
    "height, width = input_image.shape[:2]\n",
    "\n",
    "# Divided by four to rotate the image around its center\n",
    "rotation_mat_R = cv2.getRotationMatrix2D((width/2, height/2), 45, .5)\n",
    "\n",
    "rotation_image_output = cv2.warpAffine(input_image, rotation_mat_R, (width,height))\n",
    "\n",
    "cv2.imshow('Rotated_image', rotation_image_output)\n",
    "cv2.waitKey(5000)\n",
    "cv2.destroyAllWindows()"
   ]
  },
  {
   "cell_type": "markdown",
   "metadata": {},
   "source": [
    "#### Horizontal Flip"
   ]
  },
  {
   "cell_type": "code",
   "execution_count": 23,
   "metadata": {},
   "outputs": [],
   "source": [
    "# Flipping Image Horizontally\n",
    "flipped_img = cv2.flip(input_image, 1)\n",
    "cv2.imshow('Horizontal Flip', flipped_img)\n",
    "cv2.waitKey(5000)\n",
    "cv2.destroyAllWindows()"
   ]
  },
  {
   "cell_type": "markdown",
   "metadata": {},
   "source": [
    "#### Vertically Fliped"
   ]
  },
  {
   "cell_type": "code",
   "execution_count": 24,
   "metadata": {},
   "outputs": [],
   "source": [
    "# Flipping Image Horizontally\n",
    "flipped_img = cv2.flip(input_image, 0)\n",
    "cv2.imshow('Horizontal Flip', flipped_img)\n",
    "cv2.waitKey(5000)\n",
    "cv2.destroyAllWindows()"
   ]
  }
 ],
 "metadata": {
  "kernelspec": {
   "display_name": "Python 3",
   "language": "python",
   "name": "python3"
  },
  "language_info": {
   "codemirror_mode": {
    "name": "ipython",
    "version": 3
   },
   "file_extension": ".py",
   "mimetype": "text/x-python",
   "name": "python",
   "nbconvert_exporter": "python",
   "pygments_lexer": "ipython3",
   "version": "3.7.4"
  }
 },
 "nbformat": 4,
 "nbformat_minor": 2
}
