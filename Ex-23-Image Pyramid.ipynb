{
 "cells": [
  {
   "cell_type": "markdown",
   "metadata": {},
   "source": [
    "# Image Pyramid"
   ]
  },
  {
   "cell_type": "markdown",
   "metadata": {},
   "source": [
    "#### Import Libraries"
   ]
  },
  {
   "cell_type": "code",
   "execution_count": 3,
   "metadata": {},
   "outputs": [],
   "source": [
    "import cv2\n",
    "import numpy as np\n",
    "import matplotlib.pyplot as plt"
   ]
  },
  {
   "cell_type": "code",
   "execution_count": 4,
   "metadata": {
    "scrolled": true
   },
   "outputs": [],
   "source": [
    "#load image into gray scale\n",
    "img = cv2.imread(\"D:\\Computer-Vision-Bootcamp\\images\\expert.png\")\n",
    "img = cv2.resize(img,(700,700))\n",
    "\n",
    "#Gaussian Pyramid Have 2 function-1) cv2.pyrUp(),2)-cv2.pyrDown()\n",
    "#pyrdown----\n",
    "pd1 = cv2.pyrDown(img)\n",
    "pd2 = cv2.pyrDown(pd1)\n",
    "\n",
    "#pyrup\n",
    "#if we pyrup any pyrdown image both are not equal\n",
    "pu1 = cv2.pyrUp(pd2)\n",
    "\n",
    "\n",
    "cv2.imshow(\"original==\",img)\n",
    "cv2.imshow(\"pd1==\",pd1)\n",
    "cv2.imshow(\"pd2==\",pd2)\n",
    "cv2.imshow(\"pu1==\",pu1)\n",
    "\n",
    "cv2.waitKey(2)\n",
    "cv2.destroyAllWindows()"
   ]
  },
  {
   "cell_type": "code",
   "execution_count": null,
   "metadata": {},
   "outputs": [],
   "source": []
  }
 ],
 "metadata": {
  "kernelspec": {
   "display_name": "Python 3 (ipykernel)",
   "language": "python",
   "name": "python3"
  },
  "language_info": {
   "codemirror_mode": {
    "name": "ipython",
    "version": 3
   },
   "file_extension": ".py",
   "mimetype": "text/x-python",
   "name": "python",
   "nbconvert_exporter": "python",
   "pygments_lexer": "ipython3",
   "version": "3.7.8"
  }
 },
 "nbformat": 4,
 "nbformat_minor": 2
}
