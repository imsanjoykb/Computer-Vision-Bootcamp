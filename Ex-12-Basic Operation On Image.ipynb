{
 "cells": [
  {
   "cell_type": "markdown",
   "metadata": {},
   "source": [
    "# Basic Operation On Image | Merge, Split,Size"
   ]
  },
  {
   "cell_type": "markdown",
   "metadata": {},
   "source": [
    "#### Import Libraries"
   ]
  },
  {
   "cell_type": "code",
   "execution_count": 3,
   "metadata": {},
   "outputs": [],
   "source": [
    "import cv2\n",
    "import numpy as np\n",
    "import matplotlib.pyplot as plt"
   ]
  },
  {
   "cell_type": "code",
   "execution_count": 4,
   "metadata": {
    "scrolled": true
   },
   "outputs": [
    {
     "name": "stdout",
     "output_type": "stream",
     "text": [
      "shape== (400, 600, 3)\n",
      "no.of pixels== 720000\n",
      "datatype== uint8\n",
      "Imagetype== <class 'numpy.ndarray'>\n"
     ]
    }
   ],
   "source": [
    "img = cv2.imread(\"D:\\Computer-Vision-Bootcamp\\images\\lambo.png\")\n",
    "img = cv2.resize(img,(600,400))\n",
    "\n",
    "print(\"shape==\",img.shape) #returns a tuple of number of (rows, columns, channels)\n",
    "print(\"no.of pixels==\",img.size) #returns Total number of pixels is accessed\n",
    "print(\"datatype==\",img.dtype) #returns Image datatype is obtained\n",
    "print(\"Imagetype==\",type(img))\n",
    "\n",
    "# Now try to split an image\n",
    "#split  -  return 3 channel of ur image which is blue,green,red\n",
    "# print(cv2.split(img))\n",
    "b,g,r = cv2.split(img)\n",
    "\n",
    "# cv2.imshow(\"blue\",b)\n",
    "# cv2.imshow(\"green\",g)\n",
    "# cv2.imshow(\"red\",r)\n",
    "\n",
    "#Now if you want to mix the the channels then use merge\n",
    "\n",
    "mr1 = cv2.merge((r,g,b))\n",
    "cv2.imshow(\"rgb\",mr1)\n",
    "\n",
    "mr2 = cv2.merge((b,g,r))\n",
    "cv2.imshow(\"bgr\",mr2)\n",
    "\n",
    "\n",
    "\n",
    "\n",
    "cv2.imshow(\"Original\",img)\n",
    "cv2.waitKey()\n",
    "cv2.destroyAllWindows()"
   ]
  },
  {
   "cell_type": "code",
   "execution_count": null,
   "metadata": {},
   "outputs": [],
   "source": []
  }
 ],
 "metadata": {
  "kernelspec": {
   "display_name": "Python 3",
   "language": "python",
   "name": "python3"
  },
  "language_info": {
   "codemirror_mode": {
    "name": "ipython",
    "version": 3
   },
   "file_extension": ".py",
   "mimetype": "text/x-python",
   "name": "python",
   "nbconvert_exporter": "python",
   "pygments_lexer": "ipython3",
   "version": "3.7.4"
  }
 },
 "nbformat": 4,
 "nbformat_minor": 2
}
