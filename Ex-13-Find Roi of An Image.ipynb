{
 "cells": [
  {
   "cell_type": "markdown",
   "metadata": {},
   "source": [
    "# Find Roi of An Image"
   ]
  },
  {
   "cell_type": "markdown",
   "metadata": {},
   "source": [
    "#### Import Libraries"
   ]
  },
  {
   "cell_type": "code",
   "execution_count": 5,
   "metadata": {},
   "outputs": [],
   "source": [
    "import cv2\n",
    "import numpy as np\n",
    "import matplotlib.pyplot as plt"
   ]
  },
  {
   "cell_type": "code",
   "execution_count": 6,
   "metadata": {
    "scrolled": true
   },
   "outputs": [],
   "source": [
    "#read image\n",
    "img = cv2.imread(\"D:\\Computer-Vision-Bootcamp\\images\\lambo.png\")\n",
    "img = cv2.resize(img,(600,600))\n",
    "\n",
    "#ROI (231,41) (342,161)\n",
    "\n",
    "#pass [(y1:y2),(x1,x2)]\n",
    "#y = 161-41 =120 , x= 342-231 = 111\n",
    "roi = img[41:161,231:342]\n",
    "\n",
    "#now passing data into img\n",
    "img[41:161,343:454] = roi\n",
    "img[41:161,455:566] = roi\n",
    "\n",
    "img[41:161,119:230] = roi\n",
    "img[41:161,8:119] = roi\n",
    "\n",
    "\n",
    "cv2.imshow(\"original\",img)\n",
    "cv2.imwrite(\"img.png\",img)\n",
    "cv2.waitKey(0)\n",
    "cv2.destroyAllWindows()"
   ]
  },
  {
   "cell_type": "code",
   "execution_count": null,
   "metadata": {},
   "outputs": [],
   "source": []
  }
 ],
 "metadata": {
  "kernelspec": {
   "display_name": "Python 3",
   "language": "python",
   "name": "python3"
  },
  "language_info": {
   "codemirror_mode": {
    "name": "ipython",
    "version": 3
   },
   "file_extension": ".py",
   "mimetype": "text/x-python",
   "name": "python",
   "nbconvert_exporter": "python",
   "pygments_lexer": "ipython3",
   "version": "3.7.4"
  }
 },
 "nbformat": 4,
 "nbformat_minor": 2
}
