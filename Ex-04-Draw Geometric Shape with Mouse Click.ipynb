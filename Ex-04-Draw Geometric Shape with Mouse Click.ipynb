{
 "cells": [
  {
   "cell_type": "markdown",
   "metadata": {},
   "source": [
    "# Draw Geometric Shape with Mouse Click"
   ]
  },
  {
   "cell_type": "markdown",
   "metadata": {},
   "source": [
    "#### Import Libraries"
   ]
  },
  {
   "cell_type": "code",
   "execution_count": 1,
   "metadata": {},
   "outputs": [],
   "source": [
    "import cv2\n",
    "import numpy as np"
   ]
  },
  {
   "cell_type": "markdown",
   "metadata": {},
   "source": [
    "#### Drawing Blue Circles on Black Screen by Left Button click on Mouse"
   ]
  },
  {
   "cell_type": "code",
   "execution_count": 2,
   "metadata": {},
   "outputs": [],
   "source": [
    "# Create s circle shape finction to draw a circle on left button click event\n",
    "def circle_shape(event, x, y, flagval, par):\n",
    "    if event == cv2.EVENT_LBUTTONDOWN:\n",
    "        cv2.circle(image_window, (x,y), 50, (255,0,0), -1)\n",
    "        \n",
    "\n",
    "# Naming the window so we can reference it\n",
    "cv2.namedWindow(winname = 'Image_Window')\n",
    "\n",
    "# Connecting the mouse button to the callback function\n",
    "cv2.setMouseCallback('Image_window', circle_shape)\n",
    "\n",
    "# Creating a black image\n",
    "image_window = np.zeros((1024,1024,3), np.uint8)\n",
    "\n",
    "while True: # Keep the block image window open untill we break with Esc key on keyboard\n",
    "    \n",
    "    #show the image window\n",
    "    cv2.imshow('Image_window', image_window)\n",
    "    \n",
    "    if cv2.waitKey(20) & 0xFF == 27:\n",
    "        break\n",
    "cv2.destroyAllWindows()"
   ]
  },
  {
   "cell_type": "markdown",
   "metadata": {},
   "source": [
    "#### Drawing Blue Circles on Black Screen by Left Button click & Red color circle by Right button click on Mouse"
   ]
  },
  {
   "cell_type": "code",
   "execution_count": 3,
   "metadata": {},
   "outputs": [],
   "source": [
    "# Create s circle shape finction to draw a circle on left button click event\n",
    "def circle_shape(event, x, y, flagval, par):\n",
    "    if event == cv2.EVENT_LBUTTONDOWN:\n",
    "        cv2.circle(image_window, (x,y), 50, (255,0,0), -1)\n",
    "    elif event == cv2.EVENT_RBUTTONDOWN:\n",
    "        cv2.circle(image_window, (x,y), 50, (0,0,255), -1)\n",
    "        \n",
    "        \n",
    "# Naming the window so we can reference it\n",
    "cv2.namedWindow(winname = 'Image_Window')\n",
    "\n",
    "# Connecting the mouse button to the callback function\n",
    "cv2.setMouseCallback('Image_window', circle_shape)\n",
    "\n",
    "# Creating a black image\n",
    "image_window = np.zeros((1024,1024,3), np.uint8)\n",
    "\n",
    "while True: # Keep the block image window open untill we break with Esc key on keyboard\n",
    "    \n",
    "    #show the image window\n",
    "    cv2.imshow('Image_window', image_window)\n",
    "    \n",
    "    if cv2.waitKey(20) & 0xFF == 27:\n",
    "        break\n",
    "cv2.destroyAllWindows()"
   ]
  },
  {
   "cell_type": "code",
   "execution_count": null,
   "metadata": {},
   "outputs": [],
   "source": []
  }
 ],
 "metadata": {
  "kernelspec": {
   "display_name": "Python 3",
   "language": "python",
   "name": "python3"
  },
  "language_info": {
   "codemirror_mode": {
    "name": "ipython",
    "version": 3
   },
   "file_extension": ".py",
   "mimetype": "text/x-python",
   "name": "python",
   "nbconvert_exporter": "python",
   "pygments_lexer": "ipython3",
   "version": "3.7.4"
  }
 },
 "nbformat": 4,
 "nbformat_minor": 2
}
